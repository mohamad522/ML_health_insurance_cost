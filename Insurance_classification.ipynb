{
 "cells": [
  {
   "cell_type": "code",
   "execution_count": 162,
   "id": "1257757d-3323-427f-bb6c-a65160176ad5",
   "metadata": {},
   "outputs": [],
   "source": [
    "import pandas as pd\n",
    "from sklearn.model_selection import train_test_split\n",
    "from sklearn.linear_model import LogisticRegression\n",
    "from sklearn.metrics import accuracy_score\n",
    "import numpy as np"
   ]
  },
  {
   "cell_type": "code",
   "execution_count": 163,
   "id": "38dbf000-c279-4ebb-81f4-fb865749cdb6",
   "metadata": {},
   "outputs": [],
   "source": [
    "insurance_df = pd.read_csv('insurance_processed.csv')"
   ]
  },
  {
   "cell_type": "code",
   "execution_count": 166,
   "outputs": [],
   "source": [
    "insurance_df = insurance_df.dropna()"
   ],
   "metadata": {
    "collapsed": false
   }
  },
  {
   "cell_type": "code",
   "execution_count": 169,
   "outputs": [
    {
     "data": {
      "text/plain": "age                 1\nsex                 1\nbmi                 1\nchildren            1\nsmoker              1\ncharges             1\nregion_northeast    1\nregion_northwest    1\nregion_southeast    1\nregion_southwest    1\ndtype: int64"
     },
     "execution_count": 169,
     "metadata": {},
     "output_type": "execute_result"
    }
   ],
   "source": [
    "insurance_df.loc[insurance_df['charges'] == 63770.428010].count()"
   ],
   "metadata": {
    "collapsed": false
   }
  },
  {
   "cell_type": "code",
   "execution_count": 170,
   "outputs": [
    {
     "data": {
      "text/plain": "9382.033"
     },
     "execution_count": 170,
     "metadata": {},
     "output_type": "execute_result"
    }
   ],
   "source": [
    "median = insurance_df['charges'].median()\n",
    "\n",
    "median"
   ],
   "metadata": {
    "collapsed": false
   }
  },
  {
   "cell_type": "code",
   "execution_count": 171,
   "id": "3b7fc87d-dc87-4642-9ec3-aebedf47427f",
   "metadata": {},
   "outputs": [
    {
     "data": {
      "text/plain": "0        True\n1       False\n2       False\n3        True\n4       False\n        ...  \n1333     True\n1334    False\n1335    False\n1336    False\n1337     True\nName: charges, Length: 1338, dtype: bool"
     },
     "execution_count": 171,
     "metadata": {},
     "output_type": "execute_result"
    }
   ],
   "source": [
    "(insurance_df['charges'] - median) > 0"
   ]
  },
  {
   "cell_type": "code",
   "execution_count": 172,
   "id": "6f7895f4-41f6-4d16-92c8-083083756908",
   "metadata": {},
   "outputs": [],
   "source": [
    "#true fro above median and false for under median\n",
    "insurance_df['above_median'] = (insurance_df['charges'] - median) > 0"
   ]
  },
  {
   "cell_type": "code",
   "execution_count": 174,
   "id": "37de400b-3179-4e17-8190-97f258b1afbe",
   "metadata": {},
   "outputs": [],
   "source": [
    "X = insurance_df.drop(['charges', 'above_median'], axis=1)\n",
    "Y = insurance_df['above_median']"
   ]
  },
  {
   "cell_type": "code",
   "execution_count": 175,
   "id": "40a1e12c-b2de-4ff5-b788-e0512ea15f09",
   "metadata": {},
   "outputs": [
    {
     "data": {
      "text/plain": "Index(['age', 'sex', 'bmi', 'children', 'smoker', 'region_northeast',\n       'region_northwest', 'region_southeast', 'region_southwest'],\n      dtype='object')"
     },
     "execution_count": 175,
     "metadata": {},
     "output_type": "execute_result"
    }
   ],
   "source": [
    "X.columns"
   ]
  },
  {
   "cell_type": "code",
   "execution_count": 176,
   "id": "cc28c2bf-6f86-4d87-9ad1-1a5972874b2a",
   "metadata": {},
   "outputs": [
    {
     "data": {
      "text/plain": "148      True\n37      False\n1331     True\n688      True\n1222    False\n89       True\n594     False\n308      True\n641      True\n301      True\nName: above_median, dtype: bool"
     },
     "execution_count": 176,
     "metadata": {},
     "output_type": "execute_result"
    }
   ],
   "source": [
    "Y.sample(10)"
   ]
  },
  {
   "cell_type": "code",
   "execution_count": 177,
   "id": "18a3baf4-7133-4728-8753-52ec167bbe79",
   "metadata": {},
   "outputs": [],
   "source": [
    "x_train, x_test, y_train, y_test = train_test_split(X, Y, test_size=0.2)"
   ]
  },
  {
   "cell_type": "code",
   "execution_count": 178,
   "id": "c1ebd7fb-bfae-465b-9ecb-0ee759a73e78",
   "metadata": {},
   "outputs": [
    {
     "data": {
      "text/plain": "((1070, 9), (268, 9))"
     },
     "execution_count": 178,
     "metadata": {},
     "output_type": "execute_result"
    }
   ],
   "source": [
    "x_train.shape, x_test.shape"
   ]
  },
  {
   "cell_type": "code",
   "execution_count": 179,
   "id": "24a8d1b7-a8f4-4354-9745-68bf32aacdf0",
   "metadata": {},
   "outputs": [
    {
     "data": {
      "text/plain": "((1070,), (268,))"
     },
     "execution_count": 179,
     "metadata": {},
     "output_type": "execute_result"
    }
   ],
   "source": [
    "y_train.shape, y_test.shape"
   ]
  },
  {
   "cell_type": "markdown",
   "id": "60e1d6e8-4ac9-472d-863e-03d0e159908b",
   "metadata": {},
   "source": [
    "### Train a logistic regression model for price classification"
   ]
  },
  {
   "cell_type": "code",
   "execution_count": 180,
   "id": "d2b56305-e68f-49cd-ad18-f1f3a9875917",
   "metadata": {},
   "outputs": [],
   "source": [
    "logistic_model = LogisticRegression(solver='liblinear').fit(x_train, y_train)"
   ]
  },
  {
   "cell_type": "code",
   "execution_count": 181,
   "id": "46a76c44-6d4c-425e-aed2-1e1ffe64b7b7",
   "metadata": {},
   "outputs": [
    {
     "name": "stdout",
     "output_type": "stream",
     "text": [
      "Training_score :  0.908411214953271\n"
     ]
    }
   ],
   "source": [
    "print(\"Training_score : \" , logistic_model.score(x_train, y_train))"
   ]
  },
  {
   "cell_type": "code",
   "execution_count": 182,
   "id": "45a293ed-7a92-4802-84f9-94ec8a860fbc",
   "metadata": {},
   "outputs": [],
   "source": [
    "y_pred = logistic_model.predict(x_test)"
   ]
  },
  {
   "cell_type": "code",
   "execution_count": 183,
   "id": "d67ac99f-ad1d-4245-906b-10a468d546d0",
   "metadata": {},
   "outputs": [
    {
     "data": {
      "text/plain": "      predicted  actual\n61        False   False\n666        True   False\n1195      False    True\n696        True    True\n1192       True    True\n1109      False   False\n1294       True    True\n1006      False   False\n399       False   False\n413       False   False",
      "text/html": "<div>\n<style scoped>\n    .dataframe tbody tr th:only-of-type {\n        vertical-align: middle;\n    }\n\n    .dataframe tbody tr th {\n        vertical-align: top;\n    }\n\n    .dataframe thead th {\n        text-align: right;\n    }\n</style>\n<table border=\"1\" class=\"dataframe\">\n  <thead>\n    <tr style=\"text-align: right;\">\n      <th></th>\n      <th>predicted</th>\n      <th>actual</th>\n    </tr>\n  </thead>\n  <tbody>\n    <tr>\n      <th>61</th>\n      <td>False</td>\n      <td>False</td>\n    </tr>\n    <tr>\n      <th>666</th>\n      <td>True</td>\n      <td>False</td>\n    </tr>\n    <tr>\n      <th>1195</th>\n      <td>False</td>\n      <td>True</td>\n    </tr>\n    <tr>\n      <th>696</th>\n      <td>True</td>\n      <td>True</td>\n    </tr>\n    <tr>\n      <th>1192</th>\n      <td>True</td>\n      <td>True</td>\n    </tr>\n    <tr>\n      <th>1109</th>\n      <td>False</td>\n      <td>False</td>\n    </tr>\n    <tr>\n      <th>1294</th>\n      <td>True</td>\n      <td>True</td>\n    </tr>\n    <tr>\n      <th>1006</th>\n      <td>False</td>\n      <td>False</td>\n    </tr>\n    <tr>\n      <th>399</th>\n      <td>False</td>\n      <td>False</td>\n    </tr>\n    <tr>\n      <th>413</th>\n      <td>False</td>\n      <td>False</td>\n    </tr>\n  </tbody>\n</table>\n</div>"
     },
     "execution_count": 183,
     "metadata": {},
     "output_type": "execute_result"
    }
   ],
   "source": [
    "df_pred_actual = pd.DataFrame({'predicted': y_pred, 'actual': y_test})\n",
    "\n",
    "df_pred_actual.head(10)"
   ]
  },
  {
   "cell_type": "code",
   "execution_count": 184,
   "id": "0827277c-9327-4dbc-91fb-a324ef73bfab",
   "metadata": {},
   "outputs": [
    {
     "data": {
      "text/plain": "      predicted  actual\n61        False   False\n666        True   False\n1195      False    True\n696        True    True\n1192       True    True\n1109      False   False\n1294       True    True\n1006      False   False\n399       False   False\n413       False   False",
      "text/html": "<div>\n<style scoped>\n    .dataframe tbody tr th:only-of-type {\n        vertical-align: middle;\n    }\n\n    .dataframe tbody tr th {\n        vertical-align: top;\n    }\n\n    .dataframe thead th {\n        text-align: right;\n    }\n</style>\n<table border=\"1\" class=\"dataframe\">\n  <thead>\n    <tr style=\"text-align: right;\">\n      <th></th>\n      <th>predicted</th>\n      <th>actual</th>\n    </tr>\n  </thead>\n  <tbody>\n    <tr>\n      <th>61</th>\n      <td>False</td>\n      <td>False</td>\n    </tr>\n    <tr>\n      <th>666</th>\n      <td>True</td>\n      <td>False</td>\n    </tr>\n    <tr>\n      <th>1195</th>\n      <td>False</td>\n      <td>True</td>\n    </tr>\n    <tr>\n      <th>696</th>\n      <td>True</td>\n      <td>True</td>\n    </tr>\n    <tr>\n      <th>1192</th>\n      <td>True</td>\n      <td>True</td>\n    </tr>\n    <tr>\n      <th>1109</th>\n      <td>False</td>\n      <td>False</td>\n    </tr>\n    <tr>\n      <th>1294</th>\n      <td>True</td>\n      <td>True</td>\n    </tr>\n    <tr>\n      <th>1006</th>\n      <td>False</td>\n      <td>False</td>\n    </tr>\n    <tr>\n      <th>399</th>\n      <td>False</td>\n      <td>False</td>\n    </tr>\n    <tr>\n      <th>413</th>\n      <td>False</td>\n      <td>False</td>\n    </tr>\n  </tbody>\n</table>\n</div>"
     },
     "execution_count": 184,
     "metadata": {},
     "output_type": "execute_result"
    }
   ],
   "source": [
    "df_pred_actual = pd.DataFrame({'predicted': y_pred, 'actual': y_test})\n",
    "\n",
    "df_pred_actual.head(10)"
   ]
  },
  {
   "cell_type": "code",
   "execution_count": 185,
   "id": "8e41d5d5-b02c-4671-8e70-c987fb344954",
   "metadata": {},
   "outputs": [
    {
     "name": "stdout",
     "output_type": "stream",
     "text": [
      "Testing_score :  0.8880597014925373\n"
     ]
    }
   ],
   "source": [
    "print(\"Testing_score : \", accuracy_score(y_test, y_pred))"
   ]
  },
  {
   "cell_type": "markdown",
   "id": "3bbe3f52-b0a3-4410-bcd2-1b3310e80e6b",
   "metadata": {},
   "source": [
    "precision score?"
   ]
  },
  {
   "cell_type": "markdown",
   "id": "8ddb729c-261f-47c1-9804-8930fdb860c6",
   "metadata": {},
   "source": [
    "### Visualizing relationships"
   ]
  },
  {
   "cell_type": "code",
   "execution_count": 186,
   "id": "a9215db4-e8f1-4468-b1dc-8c5f9be9e6a1",
   "metadata": {},
   "outputs": [
    {
     "name": "stdout",
     "output_type": "stream",
     "text": [
      "[ True]\n"
     ]
    },
    {
     "name": "stderr",
     "output_type": "stream",
     "text": [
      "C:\\Users\\moham\\anaconda3\\lib\\site-packages\\sklearn\\base.py:450: UserWarning: X does not have valid feature names, but LogisticRegression was fitted with feature names\n",
      "  warnings.warn(\n"
     ]
    }
   ],
   "source": [
    "new_data = np.array([[20, 1, 30, 3, 1, 1, 0, 0, 0]])\n",
    "prediction = logistic_model.predict(new_data)\n",
    "print(prediction)"
   ]
  }
 ],
 "metadata": {
  "kernelspec": {
   "display_name": "Python 3 (ipykernel)",
   "language": "python",
   "name": "python3"
  },
  "language_info": {
   "codemirror_mode": {
    "name": "ipython",
    "version": 3
   },
   "file_extension": ".py",
   "mimetype": "text/x-python",
   "name": "python",
   "nbconvert_exporter": "python",
   "pygments_lexer": "ipython3",
   "version": "3.10.9"
  }
 },
 "nbformat": 4,
 "nbformat_minor": 5
}
