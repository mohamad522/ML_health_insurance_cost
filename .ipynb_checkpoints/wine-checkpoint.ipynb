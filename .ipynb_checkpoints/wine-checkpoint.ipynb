{
 "cells": [
  {
   "cell_type": "code",
   "execution_count": 1,
   "id": "83b2bb5c-f061-44ab-bde2-d04cd3586e6f",
   "metadata": {},
   "outputs": [
    {
     "name": "stdout",
     "output_type": "stream",
     "text": [
      "Import error:  No module named 'lahalo'\n"
     ]
    },
    {
     "ename": "NameError",
     "evalue": "name 'make_blobs' is not defined",
     "output_type": "error",
     "traceback": [
      "\u001b[1;31m---------------------------------------------------------------------------\u001b[0m",
      "\u001b[1;31mNameError\u001b[0m                                 Traceback (most recent call last)",
      "Cell \u001b[1;32mIn[1], line 21\u001b[0m\n\u001b[0;32m     17\u001b[0m     \u001b[38;5;28mprint\u001b[39m(\u001b[38;5;124m'\u001b[39m\u001b[38;5;124mImport error: \u001b[39m\u001b[38;5;124m'\u001b[39m, e)\n\u001b[0;32m     19\u001b[0m \u001b[38;5;66;03m# TODO: Write bad comments\u001b[39;00m\n\u001b[0;32m     20\u001b[0m \u001b[38;5;66;03m# Generate sample data \u001b[39;00m\n\u001b[1;32m---> 21\u001b[0m X, y \u001b[38;5;241m=\u001b[39m \u001b[43mmake_blobs\u001b[49m(n_samples\u001b[38;5;241m=\u001b[39m\u001b[38;5;241m1000\u001b[39m, centers\u001b[38;5;241m=\u001b[39m\u001b[38;5;241m4\u001b[39m, n_features\u001b[38;5;241m=\u001b[39m\u001b[38;5;241m2\u001b[39m, random_state\u001b[38;5;241m=\u001b[39m\u001b[38;5;241m42\u001b[39m)\n\u001b[0;32m     23\u001b[0m \u001b[38;5;66;03m# Define a range of k values to try\u001b[39;00m\n\u001b[0;32m     24\u001b[0m \u001b[38;5;66;03m# Initialize lists to store scores and models\u001b[39;00m\n\u001b[0;32m     25\u001b[0m scores, models, k_values \u001b[38;5;241m=\u001b[39m [], [], \u001b[38;5;28mrange\u001b[39m(\u001b[38;5;241m2\u001b[39m, \u001b[38;5;241m10\u001b[39m)\n",
      "\u001b[1;31mNameError\u001b[0m: name 'make_blobs' is not defined"
     ]
    }
   ],
   "source": [
    "try:\n",
    "    import warnings\n",
    "    import numpy as np\n",
    "    import pandas as pd\n",
    "    import matplotlib.pyplot as plt\n",
    "\n",
    "    from sklearn.datasets import load_wine\n",
    "    from sklearn.cluster import KMeans\n",
    "    from sklearn.preprocessing import StandardScaler\n",
    "    from sklearn.datasets import make_blobs\n",
    "    from sklearn.cluster import KMeans\n",
    "    from sklearn.metrics import silhouette_score\n",
    "\n",
    "    warnings.filterwarnings(\"ignore\")\n",
    "except Exception as e:\n",
    "    print('Import error: ', e)\n",
    "\n",
    "# TODO: Write bad comments\n",
    "# Generate sample data \n",
    "X, y = make_blobs(n_samples=1000, centers=4, n_features=2, random_state=42)\n",
    "\n",
    "# Define a range of k values to try\n",
    "# Initialize lists to store scores and models\n",
    "scores, models, k_values = [], [], range(2, 10)\n",
    "\n",
    "# Loop over k values and fit k-means models\n",
    "for k in k_values:\n",
    "    model = KMeans(n_clusters=k, random_state=42)\n",
    "    model.fit(X)\n",
    "    models.append(model)\n",
    "    score = silhouette_score(X, model.labels_)\n",
    "    scores.append(score)\n",
    "\n",
    "# Find the best k value based on the silhouette score\n",
    "best_k = k_values[np.argmax(scores)]\n",
    "\n",
    "# Fit the best k-means model\n",
    "best_model = models[np.argmax(scores)]\n",
    "\n",
    "# Plot the results\n",
    "plt.scatter(X[:, 0], X[:, 1], c=best_model.labels_)\n",
    "plt.scatter(best_model.cluster_centers_[:, 0], best_model.cluster_centers_[:, 1], s=100, c='red')\n",
    "plt.title(f'K-Means Clustering (k={best_k}, silhouette score={np.max(scores):.2f})')\n",
    "plt.show()"
   ]
  },
  {
   "cell_type": "code",
   "execution_count": null,
   "id": "eed9a179-ce9e-492c-9f27-46cad4664968",
   "metadata": {},
   "outputs": [],
   "source": []
  }
 ],
 "metadata": {
  "kernelspec": {
   "display_name": "Python 3 (ipykernel)",
   "language": "python",
   "name": "python3"
  },
  "language_info": {
   "codemirror_mode": {
    "name": "ipython",
    "version": 3
   },
   "file_extension": ".py",
   "mimetype": "text/x-python",
   "name": "python",
   "nbconvert_exporter": "python",
   "pygments_lexer": "ipython3",
   "version": "3.10.9"
  }
 },
 "nbformat": 4,
 "nbformat_minor": 5
}
